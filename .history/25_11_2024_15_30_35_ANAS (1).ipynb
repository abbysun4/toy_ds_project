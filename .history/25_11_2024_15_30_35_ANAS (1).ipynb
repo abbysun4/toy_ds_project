{
 "cells": [
  {
   "cell_type": "code",
   "execution_count": 1,
   "id": "655a382d-3241-4c33-b0a5-ded7ca709cb6",
   "metadata": {},
   "outputs": [],
   "source": [
    "import pandas as pd\n",
    "import altair as alt \n",
    "import numpy as np\n",
    "from sklearn import set_config\n",
    "from sklearn.compose import make_column_transformer\n",
    "from sklearn.metrics.pairwise import euclidean_distances\n",
    "from sklearn.model_selection import (\n",
    "    GridSearchCV,\n",
    "    RandomizedSearchCV,\n",
    "    cross_validate,\n",
    "    train_test_split,\n",
    ")\n",
    "from sklearn.neighbors import KNeighborsClassifier\n",
    "from sklearn.pipeline import make_pipeline\n",
    "from sklearn.preprocessing import StandardScaler\n",
    "from sklearn.metrics import recall_score, precision_score\n",
    "alt.data_transformers.enable('vegafusion')\n",
    "set_config(transform_output=\"pandas\")\n",
    "np.random.seed(2000)"
   ]
  },
  {
   "cell_type": "markdown",
   "id": "0c600ab3-528b-42c2-a5cf-cbddbc0db039",
   "metadata": {},
   "source": [
    "# Predicting Players with what Kind of Experience Level would Contribute the Most Playing Data to our Game"
   ]
  },
  {
   "cell_type": "markdown",
   "id": "7cd0af75-acc8-4dea-bfe0-afe3d53d629a",
   "metadata": {},
   "source": [
    "## Introduction"
   ]
  },
  {
   "cell_type": "markdown",
   "id": "d8710bfc-40b3-43a9-9a82-079f2ff5e002",
   "metadata": {},
   "source": [
    "- provide some relevant background information on the topic so that someone unfamiliar with it will be prepared to understand the rest of your report?"
   ]
  },
  {
   "cell_type": "markdown",
   "id": "3b209997-c43f-4be8-8f44-615daae6d386",
   "metadata": {},
   "source": [
    "|Column Name|\tData Type|\tDescription|\n",
    "|-----------|------------|------------------------------|\n",
    "|experience\t|Object| Cateorigical varaible; player’s experience level ('Pro', 'Veteran', 'Amateur', 'Regular', 'Beginner')|\n",
    "|subscribe\t|Boolean|Indicates if the player is subscribed to certain features or services.|\n",
    "|hashedEmail|Object\t|Unique hashed email for each player (used for identification)|\n",
    "|played_hours|Float64|Total hours played by the player.\tContains values from 0 to 223.1|\n",
    "|name\t|Object\t|Player’s name,\t196 unique values|\n",
    "|gender\t|Object\t|Player’s gender (e.g., Male, Female), has 7 unique values|\n",
    "|age\t|Int64|\tPlayer’s age; range from 8 to 99|\n",
    "|individualId\t|Float64\t|Unique identifier for each player, **no recorded values**|\n",
    "|organizationName|\tFloat64\t|Name of the organization the player is affiliated with, **no recorded values**|\n",
    "\n"
   ]
  },
  {
   "cell_type": "markdown",
   "id": "ac2589d0-1b66-42e3-8597-fed5f6695750",
   "metadata": {},
   "source": [
    "- The Question we tried to answer with our model is which \"kinds\" of players are most likely to contribute a large amount of data to target those players in our recruiting efforts."
   ]
  },
  {
   "cell_type": "markdown",
   "id": "181f8293-cd3e-4cf1-a559-636c87cc471c",
   "metadata": {},
   "source": [
    "## Methods & Results"
   ]
  },
  {
   "cell_type": "code",
   "execution_count": 2,
   "id": "fc886882-081d-47fa-9b1b-b2a6f620b4da",
   "metadata": {},
   "outputs": [
    {
     "data": {
      "text/html": [
       "<div>\n",
       "<style scoped>\n",
       "    .dataframe tbody tr th:only-of-type {\n",
       "        vertical-align: middle;\n",
       "    }\n",
       "\n",
       "    .dataframe tbody tr th {\n",
       "        vertical-align: top;\n",
       "    }\n",
       "\n",
       "    .dataframe thead th {\n",
       "        text-align: right;\n",
       "    }\n",
       "</style>\n",
       "<table border=\"1\" class=\"dataframe\">\n",
       "  <thead>\n",
       "    <tr style=\"text-align: right;\">\n",
       "      <th></th>\n",
       "      <th>experience</th>\n",
       "      <th>subscribe</th>\n",
       "      <th>hashedEmail</th>\n",
       "      <th>played_hours</th>\n",
       "      <th>name</th>\n",
       "      <th>gender</th>\n",
       "      <th>age</th>\n",
       "      <th>individualId</th>\n",
       "      <th>organizationName</th>\n",
       "    </tr>\n",
       "  </thead>\n",
       "  <tbody>\n",
       "    <tr>\n",
       "      <th>0</th>\n",
       "      <td>Pro</td>\n",
       "      <td>True</td>\n",
       "      <td>f6daba428a5e19a3d47574858c13550499be23603422e6...</td>\n",
       "      <td>30.3</td>\n",
       "      <td>Morgan</td>\n",
       "      <td>Male</td>\n",
       "      <td>9</td>\n",
       "      <td>NaN</td>\n",
       "      <td>NaN</td>\n",
       "    </tr>\n",
       "    <tr>\n",
       "      <th>1</th>\n",
       "      <td>Veteran</td>\n",
       "      <td>True</td>\n",
       "      <td>f3c813577c458ba0dfef80996f8f32c93b6e8af1fa9397...</td>\n",
       "      <td>3.8</td>\n",
       "      <td>Christian</td>\n",
       "      <td>Male</td>\n",
       "      <td>17</td>\n",
       "      <td>NaN</td>\n",
       "      <td>NaN</td>\n",
       "    </tr>\n",
       "    <tr>\n",
       "      <th>2</th>\n",
       "      <td>Veteran</td>\n",
       "      <td>False</td>\n",
       "      <td>b674dd7ee0d24096d1c019615ce4d12b20fcbff12d79d3...</td>\n",
       "      <td>0.0</td>\n",
       "      <td>Blake</td>\n",
       "      <td>Male</td>\n",
       "      <td>17</td>\n",
       "      <td>NaN</td>\n",
       "      <td>NaN</td>\n",
       "    </tr>\n",
       "    <tr>\n",
       "      <th>3</th>\n",
       "      <td>Amateur</td>\n",
       "      <td>True</td>\n",
       "      <td>23fe711e0e3b77f1da7aa221ab1192afe21648d47d2b4f...</td>\n",
       "      <td>0.7</td>\n",
       "      <td>Flora</td>\n",
       "      <td>Female</td>\n",
       "      <td>21</td>\n",
       "      <td>NaN</td>\n",
       "      <td>NaN</td>\n",
       "    </tr>\n",
       "    <tr>\n",
       "      <th>4</th>\n",
       "      <td>Regular</td>\n",
       "      <td>True</td>\n",
       "      <td>7dc01f10bf20671ecfccdac23812b1b415acd42c2147cb...</td>\n",
       "      <td>0.1</td>\n",
       "      <td>Kylie</td>\n",
       "      <td>Male</td>\n",
       "      <td>21</td>\n",
       "      <td>NaN</td>\n",
       "      <td>NaN</td>\n",
       "    </tr>\n",
       "  </tbody>\n",
       "</table>\n",
       "</div>"
      ],
      "text/plain": [
       "  experience  subscribe                                        hashedEmail  \\\n",
       "0        Pro       True  f6daba428a5e19a3d47574858c13550499be23603422e6...   \n",
       "1    Veteran       True  f3c813577c458ba0dfef80996f8f32c93b6e8af1fa9397...   \n",
       "2    Veteran      False  b674dd7ee0d24096d1c019615ce4d12b20fcbff12d79d3...   \n",
       "3    Amateur       True  23fe711e0e3b77f1da7aa221ab1192afe21648d47d2b4f...   \n",
       "4    Regular       True  7dc01f10bf20671ecfccdac23812b1b415acd42c2147cb...   \n",
       "\n",
       "   played_hours       name  gender  age  individualId  organizationName  \n",
       "0          30.3     Morgan    Male    9           NaN               NaN  \n",
       "1           3.8  Christian    Male   17           NaN               NaN  \n",
       "2           0.0      Blake    Male   17           NaN               NaN  \n",
       "3           0.7      Flora  Female   21           NaN               NaN  \n",
       "4           0.1      Kylie    Male   21           NaN               NaN  "
      ]
     },
     "execution_count": 2,
     "metadata": {},
     "output_type": "execute_result"
    }
   ],
   "source": [
    "#import/load data\n",
    "\n",
    "url = \"https://docs.google.com/spreadsheets/d/\"\n",
    "sheetId = '1I3LWCl5-1ZsDIEe168lmFMKynXqypCO3UL7RogvcT34'\n",
    "players = pd.read_csv(f\"https://docs.google.com/spreadsheets/d/{sheetId}/export?format=csv\")\n",
    "players.head()"
   ]
  },
  {
   "cell_type": "code",
   "execution_count": 3,
   "id": "359f07ba-4f91-48f8-9d6c-c00d900456d9",
   "metadata": {},
   "outputs": [
    {
     "ename": "NameError",
     "evalue": "name 'players_wrangled' is not defined",
     "output_type": "error",
     "traceback": [
      "\u001b[0;31m---------------------------------------------------------------------------\u001b[0m",
      "\u001b[0;31mNameError\u001b[0m                                 Traceback (most recent call last)",
      "Cell \u001b[0;32mIn[3], line 4\u001b[0m\n\u001b[1;32m      1\u001b[0m \u001b[38;5;66;03m#data wrangling \u001b[39;00m\n\u001b[1;32m      2\u001b[0m \n\u001b[1;32m      3\u001b[0m \u001b[38;5;66;03m# add additional age columns for feature engineering\u001b[39;00m\n\u001b[0;32m----> 4\u001b[0m players_more \u001b[38;5;241m=\u001b[39m players\u001b[38;5;241m.\u001b[39massign(squared_age \u001b[38;5;241m=\u001b[39m \u001b[43mplayers_wrangled\u001b[49m[\u001b[38;5;124m'\u001b[39m\u001b[38;5;124mage\u001b[39m\u001b[38;5;124m'\u001b[39m]\u001b[38;5;241m*\u001b[39m\u001b[38;5;241m*\u001b[39m\u001b[38;5;241m2\u001b[39m,\n\u001b[1;32m      5\u001b[0m                               log_age \u001b[38;5;241m=\u001b[39m np\u001b[38;5;241m.\u001b[39mlog(players_wrangled[\u001b[38;5;124m'\u001b[39m\u001b[38;5;124mage\u001b[39m\u001b[38;5;124m'\u001b[39m]),\n\u001b[1;32m      6\u001b[0m                               sin_age \u001b[38;5;241m=\u001b[39m np\u001b[38;5;241m.\u001b[39msin(players_wrangled[\u001b[38;5;124m'\u001b[39m\u001b[38;5;124mage\u001b[39m\u001b[38;5;124m'\u001b[39m]))\n\u001b[1;32m      8\u001b[0m \u001b[38;5;66;03m# select rows\u001b[39;00m\n\u001b[1;32m      9\u001b[0m players_wrangled \u001b[38;5;241m=\u001b[39m players_more[[\u001b[38;5;124m\"\u001b[39m\u001b[38;5;124mplayed_hours\u001b[39m\u001b[38;5;124m\"\u001b[39m, \u001b[38;5;124m\"\u001b[39m\u001b[38;5;124mage\u001b[39m\u001b[38;5;124m\"\u001b[39m, \u001b[38;5;124m\"\u001b[39m\u001b[38;5;124msquared_age\u001b[39m\u001b[38;5;124m\"\u001b[39m, \u001b[38;5;124m\"\u001b[39m\u001b[38;5;124mlog_age\u001b[39m\u001b[38;5;124m\"\u001b[39m, \u001b[38;5;124m\"\u001b[39m\u001b[38;5;124msin_age\u001b[39m\u001b[38;5;124m\"\u001b[39m, \u001b[38;5;124m\"\u001b[39m\u001b[38;5;124mexperience\u001b[39m\u001b[38;5;124m\"\u001b[39m]]\n",
      "\u001b[0;31mNameError\u001b[0m: name 'players_wrangled' is not defined"
     ]
    }
   ],
   "source": [
    "#data wrangling \n",
    "\n",
    "# add additional age columns for feature engineering\n",
    "players_more = players.assign(squared_age = players_wrangled['age']**2,\n",
    "                              log_age = np.log(players_wrangled['age']),\n",
    "                              sin_age = np.sin(players_wrangled['age']))\n",
    "\n",
    "# select rows\n",
    "players_wrangled = players_more[[\"played_hours\", \"age\", \"squared_age\", \"log_age\", \"sin_age\", \"experience\"]]\n",
    "players_wrangled.head()"
   ]
  },
  {
   "cell_type": "markdown",
   "id": "1a510124-db68-48ce-961e-59cd674fce8c",
   "metadata": {},
   "source": [
    "### Summary statistics "
   ]
  },
  {
   "cell_type": "code",
   "execution_count": null,
   "id": "0e71df0a-0d8e-4e0e-828f-1acd4ec2a4ba",
   "metadata": {},
   "outputs": [],
   "source": [
    "players_wrangled['experience'].value_counts()"
   ]
  },
  {
   "cell_type": "code",
   "execution_count": null,
   "id": "3d066594-95a3-42e6-b0ba-07b526587762",
   "metadata": {},
   "outputs": [],
   "source": [
    "played_hours_range = (players_wrangled['played_hours'].min(), players_wrangled['played_hours'].max())\n",
    "played_hours_range"
   ]
  },
  {
   "cell_type": "code",
   "execution_count": null,
   "id": "3217c48d-8d48-4b9d-bac5-e2780a1e338c",
   "metadata": {},
   "outputs": [],
   "source": [
    "age_range = (players_wrangled['age'].min(), players_wrangled['age'].max())\n",
    "age_range"
   ]
  },
  {
   "cell_type": "markdown",
   "id": "e9519bb7-177f-4554-8eb0-bdb016289cb3",
   "metadata": {},
   "source": [
    "### Exploratory Data Analysis Visualization "
   ]
  },
  {
   "cell_type": "code",
   "execution_count": null,
   "id": "3b02a98a-c57e-44d8-9617-32fd55252f41",
   "metadata": {},
   "outputs": [],
   "source": [
    "players_mean = players_wrangled.groupby(\"experience\").mean().reset_index()\n",
    "players_mean \n",
    "\n",
    "players_plot = alt.Chart(players_wrangled).mark_bar().encode(\n",
    "    y=alt.Y(\"experience\").title(\"experience\"), \n",
    "    x=alt.X(\"mean(played_hours):Q\").title(\"Mean Played Hours\"),  # Aggregate played_hours to show the mean\n",
    "    color=alt.Color(\"experience:N\").title(\"Experience Level\")  \n",
    ")\n"
   ]
  },
  {
   "cell_type": "code",
   "execution_count": null,
   "id": "e606a92d-a6e6-4602-b4d3-3fc48bfcd601",
   "metadata": {},
   "outputs": [],
   "source": [
    "players_plot = alt.Chart(players_wrangled).mark_circle().encode(\n",
    "    x=alt.X(\"age\").title(\"Age (years)\"),\n",
    "    y=alt.Y(\"played_hours\").title(\"Played Hours\"),\n",
    "    color=alt.Color(\"experience\").title(\"Experience Level\")\n",
    ")\n",
    "\n",
    "players_plot"
   ]
  },
  {
   "cell_type": "markdown",
   "id": "9f520113-92cb-4220-a30d-a3e58d2e0f75",
   "metadata": {},
   "source": [
    "**Figure 1: Scatter plot showing the relationship between age and hours played color-coded to show the experience level of the players**"
   ]
  },
  {
   "cell_type": "code",
   "execution_count": null,
   "id": "af8653fb-c499-44aa-837f-1d4306fb8b97",
   "metadata": {},
   "outputs": [],
   "source": [
    "players_plot = alt.Chart(players_wrangled).mark_circle().encode(\n",
    "    x=alt.X(\"experience\").title(\"Experience\"),\n",
    "    y=alt.Y(\"played_hours\").title(\"Played Hours\"),\n",
    "    color=alt.Color(\"experience\").title(\"Experience Level\")\n",
    ")\n",
    "\n",
    "players_plot"
   ]
  },
  {
   "cell_type": "markdown",
   "id": "ad9dab53-15cb-4491-8850-8c22e3b98f96",
   "metadata": {},
   "source": [
    "### Data Analysis"
   ]
  },
  {
   "cell_type": "code",
   "execution_count": null,
   "id": "ed50f25e-50ef-4c6a-af89-ca878072bc61",
   "metadata": {},
   "outputs": [],
   "source": [
    "#players_train, players_test = train_test_split(players_wrangled, test_size=0.25, stratify = players_wrangled[\"gender\"], random_state = 123)\n",
    "players_train, players_test = train_test_split(players_wrangled_more, test_size=0.25, stratify = players_wrangled[\"experience\"], random_state = 123)\n",
    "\n",
    "#players_preprocessor = make_column_transformer(\n",
    "#    (StandardScaler(), [\"age\", \"played_hours\"]),\n",
    "#    verbose_feature_names_out=False\n",
    "#)\n",
    "\n",
    "\n",
    "#pre processor\n",
    "players_preprocessor = make_column_transformer(\n",
    "    (StandardScaler(), [\"age\", \"age_squared\", \"log_age\", \"sin_age\", \"played_hours\", \"subscribe_encode\"]),\n",
    ")\n",
    "\n",
    "\n",
    "players_scaled = players_preprocessor.fit_transform(players_train)\n",
    "players_scaled\n",
    "\n",
    "\n",
    "# players_plot_scaled = alt.Chart(players_scaled).mark_circle().encode(\n",
    "#     x=alt.X(\"standardscaler__age\").title(\"Age in Years (Standardized)\").scale(zero = False),\n",
    "#     y=alt.Y(\"standardscaler__played_hours\").title(\"Played Hours(Standardized)\").scale(zero = False),\n",
    "#    # color=alt.Color(\"experience\").title(\"Experience Level\")\n",
    "# )\n",
    "\n",
    "# players_plot_scaled"
   ]
  },
  {
   "cell_type": "code",
   "execution_count": null,
   "id": "5bfb180f-7499-421d-baa5-fcabf7653d51",
   "metadata": {},
   "outputs": [],
   "source": [
    "X_train = players_train[[\"age\", \"age_squared\", \"log_age\", \"sin_age\", \"played_hours\", \"subscribe_encode\"]]\n",
    "y_train = players_train[\"experience\"]\n",
    "\n",
    "#knn = KNeighborsClassifier(n_neighbors=3)\n",
    "\n",
    "#knn_pipeline = make_pipeline(players_preprocessor, knn)\n",
    "#knn_pipeline.fit(X_train, y_train)\n",
    "\n",
    "#knn_pipeline\n",
    "\n",
    "\n",
    "# players_test[\"predicted\"] = knn_pipeline.predict(players_test[[\"age\", \"played_hours\"]])\n",
    "# players_test.head()"
   ]
  },
  {
   "cell_type": "code",
   "execution_count": null,
   "id": "71b13b6d-4ff4-4993-b4e7-43516c87a01e",
   "metadata": {},
   "outputs": [],
   "source": [
    "#knn_pipeline.score(\n",
    "#    players_test[[\"age\", \"played_hours\"]],\n",
    "#    players_test[\"experience\"]\n",
    "#)\n",
    "\n",
    "## accuracy"
   ]
  },
  {
   "cell_type": "code",
   "execution_count": null,
   "id": "c31d0227-fc2c-4d38-b86d-9b10f2cd3b31",
   "metadata": {},
   "outputs": [],
   "source": [
    "knn = KNeighborsClassifier()\n",
    "players_tune_pipe = make_pipeline(players_preprocessor, knn)\n",
    "\n",
    "\n",
    "\n",
    "param_grid = {\n",
    "    \"kneighborsclassifier__n_neighbors\": range(1, 18, 1),\n",
    "}\n"
   ]
  },
  {
   "cell_type": "code",
   "execution_count": null,
   "id": "33ec5e10-90ea-487d-8fe1-1493a71760d0",
   "metadata": {},
   "outputs": [],
   "source": [
    "players_tune_grid = GridSearchCV(\n",
    "    estimator=players_tune_pipe,\n",
    "    param_grid=param_grid,\n",
    "    cv=5\n",
    ")\n",
    "\n",
    "players_tune_grid.fit(X_train, y_train)\n",
    "\n",
    "accuracies_grid = pd.DataFrame(players_tune_grid.cv_results_)"
   ]
  },
  {
   "cell_type": "code",
   "execution_count": null,
   "id": "ebf7a0c6-308c-4d8a-82a2-65d5254335a3",
   "metadata": {},
   "outputs": [],
   "source": [
    "accuracies_grid[\"sem_test_score\"] = accuracies_grid[\"std_test_score\"] / 10**(1/2)\n",
    "accuracies_grid = (\n",
    "    accuracies_grid[[\n",
    "        \"param_kneighborsclassifier__n_neighbors\",\n",
    "        \"mean_test_score\",\n",
    "        \"sem_test_score\"\n",
    "    ]]\n",
    "    .rename(columns={\"param_kneighborsclassifier__n_neighbors\": \"n_neighbors\"})\n",
    ")\n",
    "\n",
    "accuracies_grid.reset_index()"
   ]
  },
  {
   "cell_type": "code",
   "execution_count": null,
   "id": "7e50395b-71de-4f97-91a2-241a5258b36e",
   "metadata": {},
   "outputs": [],
   "source": [
    "accuracies_grid = pd.DataFrame(players_tune_grid.cv_results_)"
   ]
  },
  {
   "cell_type": "code",
   "execution_count": null,
   "id": "e1a8ca63-1363-4eb6-b5e8-ddc9191a68e3",
   "metadata": {},
   "outputs": [],
   "source": [
    "accuracies_grid[\"sem_test_score\"] = accuracies_grid[\"std_test_score\"] / 10**(1/2)\n",
    "accuracies_grid = (\n",
    "    accuracies_grid[[\n",
    "        \"param_kneighborsclassifier__n_neighbors\",\n",
    "        \"mean_test_score\",\n",
    "        \"sem_test_score\"\n",
    "    ]]\n",
    "    .rename(columns={\"param_kneighborsclassifier__n_neighbors\": \"n_neighbors\"})\n",
    ")\n",
    "accuracies_grid"
   ]
  },
  {
   "cell_type": "code",
   "execution_count": null,
   "id": "2f73b8b9-d94a-4ca2-9aa0-2d0d15dcb90f",
   "metadata": {},
   "outputs": [],
   "source": [
    "accuracy_vs_k = alt.Chart(accuracies_grid).mark_line(point=True).encode(\n",
    "    x=alt.X(\"n_neighbors\").title(\"Neighbors\"),\n",
    "    y=alt.Y(\"mean_test_score\")\n",
    "        .scale(zero=False)\n",
    "        .title(\"Accuracy estimate\")\n",
    ")\n",
    "\n",
    "accuracy_vs_k"
   ]
  },
  {
   "cell_type": "markdown",
   "id": "1ab8d391-42e8-4328-8d84-95cf46259891",
   "metadata": {},
   "source": [
    "**Figure 3: Plot showing the relationship K Neighnors and accuracy value we would acheive in our model**"
   ]
  },
  {
   "cell_type": "code",
   "execution_count": null,
   "id": "fdeef269-5ddf-45cc-abfb-b8a97763268d",
   "metadata": {},
   "outputs": [],
   "source": [
    "players_tune_grid.best_params_"
   ]
  },
  {
   "cell_type": "code",
   "execution_count": null,
   "id": "ce55c5ce-21cd-4da0-a317-a0383da4c609",
   "metadata": {},
   "outputs": [],
   "source": [
    "# players_test = players_test.assign(\n",
    "#     predicted = players_tune_pipe.predict(players_test[[\"age\", \"played_hours\"]])\n",
    "# ).reset_index()\n",
    "\n",
    "players_test[\"predicted\"] = players_tune_grid.predict(\n",
    "    players_test[[\"age\", \"age_squared\", \"log_age\", \"sin_age\", \"played_hours\", \"subscribe_encode\"]]\n",
    ")\n",
    "\n",
    "players_test.head()"
   ]
  },
  {
   "cell_type": "code",
   "execution_count": null,
   "id": "ebd399e4-9241-4885-be5a-e3ce95c3832a",
   "metadata": {},
   "outputs": [],
   "source": [
    "players_prediction_accuracy = players_tune_grid.score(\n",
    "    players_test[[\"age\", \"age_squared\", \"log_age\", \"sin_age\", \"played_hours\", \"subscribe_encode\"]],\n",
    "    players_test[\"experience\"]\n",
    ")\n",
    "\n",
    "players_prediction_accuracy"
   ]
  },
  {
   "cell_type": "code",
   "execution_count": null,
   "id": "f379d685-1f1b-485d-b8b5-1d25e30a3af0",
   "metadata": {},
   "outputs": [],
   "source": [
    "players_mat = pd.crosstab(\n",
    "    players_test[\"gender\"],  # True labels\n",
    "    players_test[\"predicted\"],  # Predicted labels\n",
    ")\n",
    "\n",
    "players_mat"
   ]
  },
  {
   "cell_type": "code",
   "execution_count": null,
   "id": "f6a3e267-3f3e-4a48-b3a4-02c364b2e720",
   "metadata": {},
   "outputs": [],
   "source": [
    "from sklearn.metrics import ConfusionMatrixDisplay\n",
    "\n",
    "X_test = players_test[[\"age\", \"age_squared\", \"log_age\", \"sin_age\", \"played_hours\", \"subscribe_encode\"]]\n",
    "y_test = players_test[\"experience\"]\n",
    "\n",
    "players_tune_pipe.fit(X_test, y_test)\n",
    "\n",
    "\n",
    "ConfusionMatrixDisplay.from_estimator(\n",
    "    players_tune_pipe,  # We are directly passing the pipeline and let sklearn do the predictions for us\n",
    "    X_test,\n",
    "    y_test\n",
    ")"
   ]
  },
  {
   "cell_type": "markdown",
   "id": "1ad50667-fbf2-4dd0-89eb-aa7c91224c3f",
   "metadata": {},
   "source": [
    "**Figure 4: Confusion matrix showing the performance of the classification model, with true positive, false positive, true negative, and false negative values**"
   ]
  },
  {
   "cell_type": "code",
   "execution_count": null,
   "id": "7f72425a-c038-4b46-b269-245c9b348894",
   "metadata": {},
   "outputs": [],
   "source": [
    "test_data = pd.DataFrame({\n",
    "    \"age\": np.random.randint(0, 60, 5),  # Random ages between 18 and 60\n",
    "    \"age_squared\": np.random.randint(0, 2000, 5),\n",
    "    \"log_age\": np.random.randint(0, 5, 5),\n",
    "    \"sin_age\": np.random.randint(-1, 1, 5),\n",
    "    \"played_hours\": np.random.randint(0, 200, 5),  # Random played hours between 100 and 2000\n",
    "    \"subscribe_encode\": np.random.choice([0, 1], 5),  # Random subscription status (0 or 1)\n",
    "    \n",
    "})\n",
    "\n",
    "# Predict gender (since the model was trained to predict gender)\n",
    "players_tune_grid.predict(test_data)"
   ]
  },
  {
   "cell_type": "code",
   "execution_count": null,
   "id": "d3aa26d0-67fe-479a-be26-d069c203ab46",
   "metadata": {},
   "outputs": [],
   "source": [
    "#test_data1 = pd.DataFrame({\n",
    "#    \"age\": [23],  # Random ages between 18 and 60\n",
    "#    \"played_hours\": [150],  # Random played hours between 100 and 2000\n",
    "#    \"subscribe_encode\": [0],  # Random subscription status (0 or 1)\n",
    "#})\n",
    "\n",
    "# Predict gender (since the model was trained to predict gender)\n",
    "#players_tune_grid.predict(test_data1)"
   ]
  },
  {
   "cell_type": "markdown",
   "id": "39d030f0-3ecc-4398-835d-5967f4caf83a",
   "metadata": {},
   "source": [
    "**Discussion**"
   ]
  },
  {
   "cell_type": "code",
   "execution_count": null,
   "id": "cc5dc23a-f41a-40ab-906e-2505931dcae8",
   "metadata": {},
   "outputs": [],
   "source": [
    "hi"
   ]
  }
 ],
 "metadata": {
  "kernelspec": {
   "display_name": "Python 3 (ipykernel)",
   "language": "python",
   "name": "python3"
  },
  "language_info": {
   "codemirror_mode": {
    "name": "ipython",
    "version": 3
   },
   "file_extension": ".py",
   "mimetype": "text/x-python",
   "name": "python",
   "nbconvert_exporter": "python",
   "pygments_lexer": "ipython3",
   "version": "3.11.9"
  }
 },
 "nbformat": 4,
 "nbformat_minor": 5
}
